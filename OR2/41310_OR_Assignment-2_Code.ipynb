{
 "cells": [
  {
   "cell_type": "markdown",
   "metadata": {},
   "source": [
    "# Critical Path Method"
   ]
  },
  {
   "cell_type": "code",
   "execution_count": 29,
   "metadata": {},
   "outputs": [],
   "source": [
    "line = list() #contains a single line\n",
    "singleElement = list()\n",
    "tasks = dict() #contains all the tasks\n",
    "number = -1\n",
    "fhand = open('cpm.txt')\n",
    "#task id, task name, duration, dependencies"
   ]
  },
  {
   "cell_type": "code",
   "execution_count": 30,
   "metadata": {},
   "outputs": [],
   "source": [
    "for line in fhand: #slide the file line by line\n",
    "    singleElement=(line.split(',')) #split a line in subparts\n",
    "    number += 1\n",
    "    for i in range(len(singleElement)): #creating the single task element\n",
    "        tasks['task'+ str(singleElement[0])]= dict()\n",
    "        tasks['task'+ str(singleElement[0])]['id'] = singleElement[0]\n",
    "        tasks['task'+ str(singleElement[0])]['name'] = singleElement[1]\n",
    "        tasks['task'+ str(singleElement[0])]['duration'] = singleElement[2]\n",
    "        if(singleElement[3] != \"\\n\"):\n",
    "            tasks['task'+ str(singleElement[0])]['dependencies'] = singleElement[3].strip().split(';')\n",
    "        else:\n",
    "            tasks['task'+ str(singleElement[0])]['dependencies'] = ['-1']\n",
    "        tasks['task'+ str(singleElement[0])]['ES'] = 0\n",
    "        tasks['task'+ str(singleElement[0])]['EF'] = 0\n",
    "        tasks['task'+ str(singleElement[0])]['LS'] = 0\n",
    "        tasks['task'+ str(singleElement[0])]['LF'] = 0\n",
    "        tasks['task'+ str(singleElement[0])]['float'] = 0\n",
    "        tasks['task'+ str(singleElement[0])]['isCritical'] = False"
   ]
  },
  {
   "cell_type": "markdown",
   "metadata": {},
   "source": [
    "# Forward Pass"
   ]
  },
  {
   "cell_type": "code",
   "execution_count": 31,
   "metadata": {},
   "outputs": [],
   "source": [
    "for taskFW in tasks: #slides all the tasks\n",
    "    if('-1' in tasks[taskFW]['dependencies']): #checks if it's the first task\n",
    "        tasks[taskFW]['ES'] = 1\n",
    "        tasks[taskFW]['EF'] = (tasks[taskFW]['duration'])\n",
    "    else: #not the first task\n",
    "        for k in tasks.keys():\n",
    "            for depend in tasks[k]['dependencies']: #slides all the dependency in a single task\n",
    "                #print('task ' + taskFW + ' k '+ k + ' depend ' +depend)\n",
    "                if(depend != '-1' and len(tasks[k]['dependencies']) == 1): #if the task k has only one dependency\n",
    "                    tasks[k]['ES'] = int(tasks['task'+ str(depend)]['EF']) +1\n",
    "                    tasks[k]['EF'] = int(tasks[k]['ES']) + int(tasks[k]['duration']) -1\n",
    "                elif(depend !='-1'): #if the task k has more dependency\n",
    "                    if(int(tasks['task'+depend]['EF']) > int(tasks[k]['ES'])):\n",
    "                        tasks[k]['ES'] = int(tasks['task'+ depend]['EF']) +1\n",
    "                        tasks[k]['EF'] = int(tasks[k]['ES']) + int(tasks[k]['duration']) -1"
   ]
  },
  {
   "cell_type": "code",
   "execution_count": 32,
   "metadata": {},
   "outputs": [],
   "source": [
    "aList = list() #list of task keys\n",
    "for element in tasks.keys():\n",
    "    aList.append(element)\n",
    "\n",
    "bList = list() #reversed list of task keys\n",
    "while len(aList) > 0:\n",
    "    bList.append(aList.pop())"
   ]
  },
  {
   "cell_type": "markdown",
   "metadata": {},
   "source": [
    "# Backward Pass"
   ]
  },
  {
   "cell_type": "code",
   "execution_count": 33,
   "metadata": {},
   "outputs": [],
   "source": [
    "for taskBW in bList:\n",
    "    if(bList.index(taskBW) == 0): #check if it's the last task (so no more task)\n",
    "        tasks[taskBW]['LF']=tasks[taskBW]['EF']\n",
    "        tasks[taskBW]['LS']=tasks[taskBW]['ES']\n",
    "        \n",
    "    for depend in tasks[taskBW]['dependencies']: #slides all the dependency in a single task\n",
    "        if(depend != '-1'): #check if it's NOT the last task\n",
    "            if(tasks['task'+ depend]['LF'] == 0): #check if the the dependency is already analyzed\n",
    "                #print('ID depend: '+str(tasks['task'+depend]['id']) + ' taskBW: '+str(tasks[taskBW]['id']))\n",
    "                tasks['task'+ depend]['LF'] = int(tasks[taskBW]['LS']) -1\n",
    "                tasks['task'+ depend]['LS'] = int(tasks['task'+ depend]['LF']) - int(tasks['task'+ depend]['duration']) +1\n",
    "                tasks['task'+ depend]['float'] = int(tasks['task'+ depend]['LF']) - int(tasks['task'+ depend]['EF'])\n",
    "                #print('IF1 dip LS: '+str(tasks['task'+depend]['LS']) +' dip LF: '+str(tasks['task'+depend]['LF']) + ' taskBW: '+str(tasks[taskBW]['id'])+' taskBW ES '+ str(tasks[taskBW]['ES']))\n",
    "            if(int(tasks['task'+ depend]['LF']) >int(tasks[taskBW]['LS']) ): #put the minimun value of LF for the dependencies of a task\n",
    "                tasks['task'+ depend]['LF'] = int(tasks[taskBW]['LS']) -1\n",
    "                tasks['task'+ depend]['LS'] = int(tasks['task'+ depend]['LF']) - int(tasks['task'+ depend]['duration']) +1\n",
    "                tasks['task'+ depend]['float'] = int(tasks['task'+ depend]['LF']) - int(tasks['task'+ depend]['EF'])\n",
    "                #print('IF2 dip LS: '+str(tasks['task'+depend]['LS']) +' dip LF: '+str(tasks['task'+depend]['LF']) + ' taskBW: '+str(tasks[taskBW]['id']))"
   ]
  },
  {
   "cell_type": "markdown",
   "metadata": {},
   "source": [
    "# Critical Path"
   ]
  },
  {
   "cell_type": "code",
   "execution_count": 34,
   "metadata": {},
   "outputs": [
    {
     "name": "stdout",
     "output_type": "stream",
     "text": [
      "task id, task name, duration, ES, EF, LS, LF, float, isCritical\n",
      "1, A, 12, 1, 12, 1, 12, 0, True\n",
      "2, B, 6, 13, 18, 31, 36, 18, False\n",
      "3, E, 12, 13, 24, 19, 30, 6, False\n",
      "4, F, 18, 13, 30, 13, 30, 0, True\n",
      "5, C, 2, 19, 20, 37, 38, 18, False\n",
      "6, G, 10, 31, 40, 31, 40, 0, True\n",
      "7, I, 8, 31, 38, 37, 44, 6, False\n",
      "8, D, 8, 21, 28, 39, 46, 18, False\n",
      "9, H, 6, 41, 46, 41, 46, 0, True\n",
      "10, J, 2, 39, 40, 45, 46, 6, False\n",
      "11, K, 8, 47, 54, 47, 54, 0, True\n"
     ]
    }
   ],
   "source": [
    "print('task id, task name, duration, ES, EF, LS, LF, float, isCritical')\n",
    "for task in tasks:\n",
    "    if(tasks[task]['float'] == 0):\n",
    "        tasks[task]['isCritical'] = True\n",
    "    print(str(tasks[task]['id']) +', '+str(tasks[task]['name']) +', '+str(tasks[task]['duration']) +', '+str(tasks[task]['ES']) +', '+str(tasks[task]['EF']) +', '+str(tasks[task]['LS']) +', '+str(tasks[task]['LF']) +', '+str(tasks[task]['float']) +', '+str(tasks[task]['isCritical']))"
   ]
  },
  {
   "cell_type": "code",
   "execution_count": null,
   "metadata": {},
   "outputs": [],
   "source": []
  }
 ],
 "metadata": {
  "kernelspec": {
   "display_name": "Python 3",
   "language": "python",
   "name": "python3"
  },
  "language_info": {
   "codemirror_mode": {
    "name": "ipython",
    "version": 3
   },
   "file_extension": ".py",
   "mimetype": "text/x-python",
   "name": "python",
   "nbconvert_exporter": "python",
   "pygments_lexer": "ipython3",
   "version": "3.7.8"
  }
 },
 "nbformat": 4,
 "nbformat_minor": 4
}
